{
 "cells": [
  {
   "cell_type": "markdown",
   "id": "8c961134",
   "metadata": {},
   "source": [
    "Q1. What is Abstraction in OOps? Explain with an example.\n",
    "Ans:-Abstraction  refers to the concept of hiding the complex implementation details and showing only the essential \n",
    "    features of an object or a system to the user. In simpler terms, abstraction allows you to focus on what an object\n",
    "    does rather than how it achieves what it does."
   ]
  },
  {
   "cell_type": "code",
   "execution_count": 1,
   "id": "4b7ba8a5",
   "metadata": {},
   "outputs": [
    {
     "name": "stdout",
     "output_type": "stream",
     "text": [
      "The Blue Toyota Camry is accelerating. Current speed: 10 km/h\n",
      "The Blue Toyota Camry is accelerating. Current speed: 20 km/h\n",
      "The Blue Toyota Camry is braking. Current speed: 10 km/h\n"
     ]
    }
   ],
   "source": [
    "#Example\n",
    "class Car:\n",
    "    def __init__(self, make, model, color):\n",
    "        self.make = make           \n",
    "        self.model = model         \n",
    "        self.color = color         \n",
    "        self.speed = 0            \n",
    "\n",
    "    def accelerate(self):\n",
    "        \"\"\"Increase the speed of the car.\"\"\"\n",
    "        self.speed += 10\n",
    "        print(f\"The {self.color} {self.make} {self.model} is accelerating. Current speed: {self.speed} km/h\")\n",
    "\n",
    "    def brake(self):\n",
    "        \"\"\"Decrease the speed of the car.\"\"\"\n",
    "        if self.speed > 0:\n",
    "            self.speed -= 10\n",
    "            print(f\"The {self.color} {self.make} {self.model} is braking. Current speed: {self.speed} km/h\")\n",
    "        else:\n",
    "            print(f\"The {self.color} {self.make} {self.model} has already stopped.\")\n",
    "\n",
    "# Creating an instance of the Car class\n",
    "my_car = Car(make=\"Toyota\", model=\"Camry\", color=\"Blue\")\n",
    "\n",
    "# Using the accelerate and brake methods without worrying about the internal workings of the Car class\n",
    "my_car.accelerate()   \n",
    "my_car.accelerate()\n",
    "my_car.brake()        \n"
   ]
  },
  {
   "cell_type": "markdown",
   "id": "db07fd76",
   "metadata": {},
   "source": [
    "'''Q2. Differentiate between Abstraction and Encapsulation. Explain with an example.\n",
    "Ans:-Abstraction:\n",
    "    Purpose: Abstraction focuses on hiding complex implementation details and showing only the essential features of an object \n",
    "             or a system.\n",
    "            \n",
    "    What it Does: Abstraction allows you to concentrate on what an object does, rather than how it achieves what it does.\n",
    "        \n",
    "    Example: In the context of a Car class, abstraction would involve defining methods like accelerate() and brake() that \n",
    "             allow you to interact with the car's essential functionalities without knowing the intricate details of how\n",
    "             these methods are implemented\n",
    "                \n",
    "    Encapsulation:\n",
    "    Purpose: Encapsulation is about bundling the data (attributes) and methods (functions) that operate on the data into\n",
    "             a single unit, i.e., a class, and controlling the access to the data through methods (getters and setters).\n",
    "            \n",
    "    What it Does: Encapsulation ensures that the internal state of an object is protected from unauthorized access and \n",
    "                  modification by restricting direct access to its attributes.\n",
    "    Example: Continuing with the Car class example, encapsulation would involve making the attributes\n",
    "            (make, model, color, speed) private by prefixing them with an underscore (_) and providing methods\n",
    "            (getters and setters) to access and modify these attributes safely.'''"
   ]
  },
  {
   "cell_type": "markdown",
   "id": "538c73eb",
   "metadata": {},
   "source": [
    "'''Q3. What is abc module in python? Why is it used?\n",
    "\n",
    "Ans:-Python, being a dynamically typed language, doesn't have a built-in syntax to define abstract classes directly,\n",
    "     unlike some other object-oriented languages like Java. However, Python provides a mechanism to create abstract classes\n",
    "     using the abc module, which stands for \"Abstract Base Classes.\"\n",
    "    \n",
    "     The abc module defines ABCMeta class which is a metaclass for defining abstract base class.''' "
   ]
  },
  {
   "cell_type": "markdown",
   "id": "194d8463",
   "metadata": {},
   "source": [
    "'''Q4. How can we achieve data abstraction?\n",
    "\n",
    "Ans:-Data abstraction in object-oriented programming is primarily achieved through the concepts of encapsulation and\n",
    "    abstract classes. \n",
    "    Here are some ways to achieve data abstraction:\n",
    "    1. Encapsulation\n",
    "    a) Private Attributes\n",
    "    b) Public Methods\n",
    "    2. Abstract Classes '''"
   ]
  },
  {
   "cell_type": "markdown",
   "id": "38a88d04",
   "metadata": {},
   "source": [
    "'''Q5. Can we create an instance of an abstract class? Explain your answer.\n",
    "\n",
    "Ans:-In Python, you cannot create an instance of an abstract class directly. Attempting to instantiate an abstract class \n",
    "     will result in a 'TypeError'. The purpose of an abstract class is to serve as a blueprint or template for other classes,\n",
    "     ensuring that certain methods are implemented in the subclasses.'''"
   ]
  },
  {
   "cell_type": "code",
   "execution_count": null,
   "id": "016e8d0b",
   "metadata": {},
   "outputs": [],
   "source": []
  }
 ],
 "metadata": {
  "kernelspec": {
   "display_name": "Python 3 (ipykernel)",
   "language": "python",
   "name": "python3"
  },
  "language_info": {
   "codemirror_mode": {
    "name": "ipython",
    "version": 3
   },
   "file_extension": ".py",
   "mimetype": "text/x-python",
   "name": "python",
   "nbconvert_exporter": "python",
   "pygments_lexer": "ipython3",
   "version": "3.9.13"
  }
 },
 "nbformat": 4,
 "nbformat_minor": 5
}
